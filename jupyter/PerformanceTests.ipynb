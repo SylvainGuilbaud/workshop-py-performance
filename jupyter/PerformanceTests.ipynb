{
 "cells": [
  {
   "cell_type": "code",
   "execution_count": 1,
   "id": "9f7b5878-d158-4423-97d3-9baf3b4cfe1a",
   "metadata": {},
   "outputs": [],
   "source": [
    "import iris\n",
    "import names\n",
    "import numpy as np\n",
    "from datetime import datetime\n",
    "import psycopg2\n",
    "import mysql.connector\n",
    "import matplotlib.pyplot as plt"
   ]
  },
  {
   "cell_type": "code",
   "execution_count": 2,
   "id": "915cd2cb-059f-40b1-86b3-7ead09269b50",
   "metadata": {},
   "outputs": [
    {
     "name": "stdout",
     "output_type": "stream",
     "text": [
      "Connected\n"
     ]
    }
   ],
   "source": [
    "connection_string = \"iris:1972/TEST\"\n",
    "username = \"superuser\"\n",
    "password = \"SYS\"\n",
    "\n",
    "connectionIRIS = iris.connect(connection_string, username, password)\n",
    "cursorIRIS = connectionIRIS.cursor()\n",
    "print(\"Connected\")"
   ]
  },
  {
   "cell_type": "code",
   "execution_count": 3,
   "id": "b2179a5a-2231-4c87-86c0-d95dc6a0fd5d",
   "metadata": {},
   "outputs": [
    {
     "name": "stdout",
     "output_type": "stream",
     "text": [
      "Connected\n"
     ]
    }
   ],
   "source": [
    "connectionPostgres = psycopg2.connect(database=\"testuser\",\n",
    "                        host=\"postgres\",\n",
    "                        user=\"testuser\",\n",
    "                        password=\"testpassword\",\n",
    "                        port=\"5432\")\n",
    "cursorPostgres = connectionPostgres.cursor()\n",
    "print(\"Connected\")"
   ]
  },
  {
   "cell_type": "code",
   "execution_count": 4,
   "id": "5d3a44d4-75c9-4611-a2ab-3a7ca30d9d6d",
   "metadata": {},
   "outputs": [
    {
     "name": "stdout",
     "output_type": "stream",
     "text": [
      "Connected\n"
     ]
    }
   ],
   "source": [
    "connectionMySQL = mysql.connector.connect(\n",
    "  host=\"mysql\",\n",
    "  user=\"testuser\",\n",
    "  password=\"testpassword\"\n",
    ")\n",
    "cursorMySQL = connectionMySQL.cursor()\n",
    "print(\"Connected\")"
   ]
  },
  {
   "cell_type": "code",
   "execution_count": 5,
   "id": "18f58761-fe27-4eec-b89a-07ec36f4e841",
   "metadata": {},
   "outputs": [
    {
     "name": "stdout",
     "output_type": "stream",
     "text": [
      "Parameters built\n"
     ]
    }
   ],
   "source": [
    "resultsIRIS = []\n",
    "resultsPostgres = []\n",
    "resultsMySQL = []\n",
    "parameters =  []\n",
    "for x in range(1000):\n",
    "    rng = np.random.default_rng()\n",
    "    parameter = []\n",
    "    parameter.append(names.get_first_name())\n",
    "    parameter.append(names.get_last_name())\n",
    "    parameter.append(str(rng.standard_normal(50)))\n",
    "    parameter.append(\"\")\n",
    "    parameter.append(\"\")\n",
    "    parameters.append(parameter)\n",
    "\n",
    "print(\"Parameters built\")"
   ]
  },
  {
   "cell_type": "code",
   "execution_count": 6,
   "id": "024658da-6266-4c7e-8a6a-b3558b4c282d",
   "metadata": {},
   "outputs": [
    {
     "name": "stdout",
     "output_type": "stream",
     "text": [
      "0.040132\n"
     ]
    }
   ],
   "source": [
    "date_before = datetime.now()\n",
    "\n",
    "cursorIRIS.executemany(\"INSERT INTO Test.Patient (Name, Lastname, Photo, Phone, Address) VALUES (?, ?, ?, ?, ?)\", parameters)\n",
    "connectionIRIS.commit()\n",
    "difference = datetime.now() - date_before\n",
    "print(difference.total_seconds())\n",
    "resultsIRIS.append(difference.total_seconds())"
   ]
  },
  {
   "cell_type": "code",
   "execution_count": 7,
   "id": "8cf770fe-ff5a-441f-b21a-1c4220008e4d",
   "metadata": {},
   "outputs": [
    {
     "name": "stdout",
     "output_type": "stream",
     "text": [
      "0.105862\n"
     ]
    }
   ],
   "source": [
    "date_before = datetime.now()\n",
    "    \n",
    "cursorPostgres.executemany(\"INSERT INTO test.patient (name, lastname, photo, phone, address) VALUES (%s,%s,%s,%s,%s)\", parameters)\n",
    "connectionPostgres.commit()\n",
    "difference = datetime.now() - date_before\n",
    "print(difference.total_seconds())\n",
    "resultsPostgres.append(difference.total_seconds())"
   ]
  },
  {
   "cell_type": "code",
   "execution_count": 8,
   "id": "bff1a322-b36a-4a1a-8743-37f470e25d95",
   "metadata": {},
   "outputs": [
    {
     "name": "stdout",
     "output_type": "stream",
     "text": [
      "0.055697\n"
     ]
    }
   ],
   "source": [
    "date_before = datetime.now()\n",
    "    \n",
    "cursorMySQL.executemany(\"INSERT INTO test.patient (name, lastname, photo, phone, address) VALUES (%s,%s,%s,%s,%s)\", parameters)\n",
    "connectionMySQL.commit()\n",
    "difference = datetime.now() - date_before\n",
    "print(difference.total_seconds())\n",
    "resultsMySQL.append(difference.total_seconds())"
   ]
  },
  {
   "cell_type": "code",
   "execution_count": 9,
   "id": "ab66dc80-0d6b-4ba2-b3b8-c81551d0be83",
   "metadata": {},
   "outputs": [
    {
     "name": "stdout",
     "output_type": "stream",
     "text": [
      "Parameters built\n"
     ]
    }
   ],
   "source": [
    "for x in range(4000):\n",
    "    rng = np.random.default_rng()\n",
    "    parameter = []\n",
    "    parameter.append(names.get_first_name())\n",
    "    parameter.append(names.get_last_name())\n",
    "    parameter.append(str(rng.standard_normal(50)))\n",
    "    parameter.append(\"\")\n",
    "    parameter.append(\"\")\n",
    "    parameters.append(parameter)\n",
    "\n",
    "print(\"Parameters built\")"
   ]
  },
  {
   "cell_type": "code",
   "execution_count": 10,
   "id": "2fc4b89f-e980-4cd6-9e51-7894b205380a",
   "metadata": {},
   "outputs": [
    {
     "name": "stdout",
     "output_type": "stream",
     "text": [
      "0.180021\n"
     ]
    }
   ],
   "source": [
    "date_before = datetime.now()\n",
    "\n",
    "cursorIRIS.executemany(\"INSERT INTO Test.Patient (Name, Lastname, Photo, Phone, Address) VALUES (?, ?, ?, ?, ?)\", parameters)\n",
    "connectionIRIS.commit()\n",
    "difference = datetime.now() - date_before\n",
    "print(difference.total_seconds())\n",
    "resultsIRIS.append(difference.total_seconds())"
   ]
  },
  {
   "cell_type": "code",
   "execution_count": 11,
   "id": "3926e17c-340c-4500-a3c6-9c7286b433b6",
   "metadata": {},
   "outputs": [
    {
     "name": "stdout",
     "output_type": "stream",
     "text": [
      "0.497739\n"
     ]
    }
   ],
   "source": [
    "date_before = datetime.now()\n",
    "    \n",
    "cursorPostgres.executemany(\"INSERT INTO test.patient (name, lastname, photo, phone, address) VALUES (%s,%s,%s,%s,%s)\", parameters)\n",
    "connectionPostgres.commit()\n",
    "difference = datetime.now() - date_before\n",
    "print(difference.total_seconds())\n",
    "resultsPostgres.append(difference.total_seconds())"
   ]
  },
  {
   "cell_type": "code",
   "execution_count": 12,
   "id": "04901938-81d2-4cf8-823b-4d26ed752dca",
   "metadata": {},
   "outputs": [
    {
     "name": "stdout",
     "output_type": "stream",
     "text": [
      "0.23779\n"
     ]
    }
   ],
   "source": [
    "date_before = datetime.now()\n",
    "    \n",
    "cursorMySQL.executemany(\"INSERT INTO test.patient (name, lastname, photo, phone, address) VALUES (%s,%s,%s,%s,%s)\", parameters)\n",
    "connectionMySQL.commit()\n",
    "difference = datetime.now() - date_before\n",
    "print(difference.total_seconds())\n",
    "resultsMySQL.append(difference.total_seconds())"
   ]
  },
  {
   "cell_type": "code",
   "execution_count": 13,
   "id": "1ad9caff-3c99-45f7-aeea-dfabed35e912",
   "metadata": {},
   "outputs": [
    {
     "name": "stdout",
     "output_type": "stream",
     "text": [
      "Parameters built\n"
     ]
    }
   ],
   "source": [
    "for x in range(15000):\n",
    "    rng = np.random.default_rng()\n",
    "    parameter = []\n",
    "    parameter.append(names.get_first_name())\n",
    "    parameter.append(names.get_last_name())\n",
    "    parameter.append(str(rng.standard_normal(50)))\n",
    "    parameter.append(\"\")\n",
    "    parameter.append(\"\")\n",
    "    parameters.append(parameter)\n",
    "\n",
    "print(\"Parameters built\")"
   ]
  },
  {
   "cell_type": "code",
   "execution_count": 14,
   "id": "a5b83d52-879d-4e60-9ce2-b32df9f1b30f",
   "metadata": {},
   "outputs": [
    {
     "name": "stdout",
     "output_type": "stream",
     "text": [
      "0.759273\n"
     ]
    }
   ],
   "source": [
    "date_before = datetime.now()\n",
    "\n",
    "cursorIRIS.executemany(\"INSERT INTO Test.Patient (Name, Lastname, Photo, Phone, Address) VALUES (?, ?, ?, ?, ?)\", parameters)\n",
    "connectionIRIS.commit()\n",
    "difference = datetime.now() - date_before\n",
    "print(difference.total_seconds())\n",
    "resultsIRIS.append(difference.total_seconds())"
   ]
  },
  {
   "cell_type": "code",
   "execution_count": 15,
   "id": "f808e4fa-32f1-40f5-996d-1f87b08e7bfc",
   "metadata": {},
   "outputs": [
    {
     "name": "stdout",
     "output_type": "stream",
     "text": [
      "1.722397\n"
     ]
    }
   ],
   "source": [
    "date_before = datetime.now()\n",
    "    \n",
    "cursorPostgres.executemany(\"INSERT INTO test.patient (name, lastname, photo, phone, address) VALUES (%s,%s,%s,%s,%s)\", parameters)\n",
    "connectionPostgres.commit()\n",
    "difference = datetime.now() - date_before\n",
    "print(difference.total_seconds())\n",
    "resultsPostgres.append(difference.total_seconds())"
   ]
  },
  {
   "cell_type": "code",
   "execution_count": 16,
   "id": "11b934e3-76ec-465b-b251-c7e25d16c61f",
   "metadata": {},
   "outputs": [
    {
     "name": "stdout",
     "output_type": "stream",
     "text": [
      "0.638294\n"
     ]
    }
   ],
   "source": [
    "date_before = datetime.now()\n",
    "    \n",
    "cursorMySQL.executemany(\"INSERT INTO test.patient (name, lastname, photo, phone, address) VALUES (%s,%s,%s,%s,%s)\", parameters)\n",
    "connectionMySQL.commit()\n",
    "difference = datetime.now() - date_before\n",
    "print(difference.total_seconds())\n",
    "resultsMySQL.append(difference.total_seconds())"
   ]
  },
  {
   "cell_type": "code",
   "execution_count": 17,
   "id": "f789b8b0-aa27-4143-9087-9528b744da1f",
   "metadata": {},
   "outputs": [
    {
     "name": "stdout",
     "output_type": "stream",
     "text": [
      "Parameters built\n"
     ]
    }
   ],
   "source": [
    "for x in range(30000):\n",
    "    rng = np.random.default_rng()\n",
    "    parameter = []\n",
    "    parameter.append(names.get_first_name())\n",
    "    parameter.append(names.get_last_name())\n",
    "    parameter.append(str(rng.standard_normal(50)))\n",
    "    parameter.append(\"\")\n",
    "    parameter.append(\"\")\n",
    "    parameters.append(parameter)\n",
    "\n",
    "print(\"Parameters built\")"
   ]
  },
  {
   "cell_type": "code",
   "execution_count": 18,
   "id": "ca015bbf-0625-4253-932b-2fc4826ba735",
   "metadata": {},
   "outputs": [
    {
     "name": "stdout",
     "output_type": "stream",
     "text": [
      "1.563955\n"
     ]
    }
   ],
   "source": [
    "date_before = datetime.now()\n",
    "\n",
    "cursorIRIS.executemany(\"INSERT INTO Test.Patient (Name, Lastname, Photo, Phone, Address) VALUES (?, ?, ?, ?, ?)\", parameters)\n",
    "connectionIRIS.commit()\n",
    "difference = datetime.now() - date_before\n",
    "print(difference.total_seconds())\n",
    "resultsIRIS.append(difference.total_seconds())"
   ]
  },
  {
   "cell_type": "code",
   "execution_count": 19,
   "id": "97d637a0-6889-4212-9bf2-5523b69114b4",
   "metadata": {},
   "outputs": [
    {
     "name": "stdout",
     "output_type": "stream",
     "text": [
      "4.541032\n"
     ]
    }
   ],
   "source": [
    "date_before = datetime.now()\n",
    "    \n",
    "cursorPostgres.executemany(\"INSERT INTO test.patient (name, lastname, photo, phone, address) VALUES (%s,%s,%s,%s,%s)\", parameters)\n",
    "connectionPostgres.commit()\n",
    "difference = datetime.now() - date_before\n",
    "print(difference.total_seconds())\n",
    "resultsPostgres.append(difference.total_seconds())"
   ]
  },
  {
   "cell_type": "code",
   "execution_count": 20,
   "id": "9e475a12-f046-4f98-8d95-5c08acf95004",
   "metadata": {},
   "outputs": [
    {
     "name": "stdout",
     "output_type": "stream",
     "text": [
      "1.515772\n"
     ]
    }
   ],
   "source": [
    "date_before = datetime.now()\n",
    "    \n",
    "cursorMySQL.executemany(\"INSERT INTO test.patient (name, lastname, photo, phone, address) VALUES (%s,%s,%s,%s,%s)\", parameters)\n",
    "connectionMySQL.commit()\n",
    "difference = datetime.now() - date_before\n",
    "print(difference.total_seconds())\n",
    "resultsMySQL.append(difference.total_seconds())"
   ]
  },
  {
   "cell_type": "code",
   "execution_count": 21,
   "id": "dae9ebab-79d7-41f4-af08-090f0ac22d61",
   "metadata": {},
   "outputs": [],
   "source": [
    "connectionIRIS.close()\n",
    "connectionPostgres.close()\n",
    "connectionMySQL.close()"
   ]
  },
  {
   "cell_type": "code",
   "execution_count": 22,
   "id": "6dfee5c2-d7ed-4375-919b-0c9da739b12c",
   "metadata": {},
   "outputs": [
    {
     "data": {
      "image/png": "[encoded data removed]",
      "text/plain": [
       "<Figure size 640x480 with 1 Axes>"
      ]
     },
     "metadata": {},
     "output_type": "display_data"
    }
   ],
   "source": [
    "x = [1000,5000,20000,50000]\n",
    "plt.plot(x, resultsIRIS, label = \"IRIS\")\n",
    "plt.plot(x, resultsPostgres, label = \"Postgres\")\n",
    "plt.plot(x, resultsMySQL, label = \"MySQL\")\n",
    "plt.legend() \n",
    "plt.show()"
   ]
  }
 ],
 "metadata": {
  "kernelspec": {
   "display_name": "Python 3 (ipykernel)",
   "language": "python",
   "name": "python3"
  },
  "language_info": {
   "codemirror_mode": {
    "name": "ipython",
    "version": 3
   },
   "file_extension": ".py",
   "mimetype": "text/x-python",
   "name": "python",
   "nbconvert_exporter": "python",
   "pygments_lexer": "ipython3",
   "version": "3.11.6"
  }
 },
 "nbformat": 4,
 "nbformat_minor": 5
}
